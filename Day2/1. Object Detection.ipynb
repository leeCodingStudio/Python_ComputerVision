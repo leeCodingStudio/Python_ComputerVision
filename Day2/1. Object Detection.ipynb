{
 "cells": [
  {
   "cell_type": "markdown",
   "id": "73826f9f",
   "metadata": {},
   "source": [
    "# 1. Object Detection(객체 탐지)\n",
    "* 컴퓨터 비전과 이미지 처리와 관련된 컴퓨터 기술로써, 디지털 이미지와 비디오로 특정한 계열의 시맨틱 객체 인스턴스를 감지하는 일\n",
    "* 얼굴 검출, 보행자 검출 등이 포함\n",
    "* https://ko.wikipedia.org/wiki/%EA%B0%9D%EC%B2%B4_%ED%83%90%EC%A7%80"
   ]
  },
  {
   "cell_type": "markdown",
   "id": "1e7db124",
   "metadata": {},
   "source": [
    "### 1-1. 컴퓨터 비전의 Task 비교\n",
    "* Image Classification: 이미지에 있는 개체 범주 목록 생성\n",
    "* Single-Object Localization: 이미지에 있는 개체 범주 목록과 각 개체 범주의 한 인스턴스의 위치와 배율을 나타내는 bounding box 생성\n",
    "* Object detection: 각 개체 범주의 모든 인스턴스의 위치와 배율을 나타내는 축 정렬 결계 상자와 함께 이미지에 있는 개체 범주 목록 생성\n",
    "* https://machinelearningmastery.com/object-recognition-with-deep-learning/"
   ]
  },
  {
   "cell_type": "markdown",
   "id": "7d5e62b2",
   "metadata": {},
   "source": [
    "### 1-2. Object detection 논문 흐름도\n",
    "* https://oniss.tistory.com/39"
   ]
  },
  {
   "cell_type": "markdown",
   "id": "e173a06a",
   "metadata": {},
   "source": [
    "# 2. 전통적인 Object Detection\n",
    "* https://hoya012.github.io/blog/Tutorials-of-Object-Detection-Using-Deep-Learning-what-is-object-detection/\n",
    "* Sliding Window 기법\n",
    "    * 이미지를 가로 질러 고정 된 크기의 window를 여러 배율로 슬라이드하는 것\n",
    "    * 각 단계에서 window가 중지되고 일부 feature를 계산한 다음 해당 영역에 대체가 포함되어 있는지 여부를 확인함\n",
    "* Selective Search(SS)\n",
    "    * 색상, 질감 및 모양과 같은 다양한 하위 수준 이미지 기능을 결합하여 이미지 영역의 계층적 그룹을 만드는 방식으로 작동\n",
    "    * 이미지를 여러 개의 작은 영역으로 과도하게 분할한 다음 색상, 질감 또는 기능의 유사성에 따라 영역을 재귀적으로 병합\n",
    "    * 이미지 영역 계층 구조를 사용하여 개체 제안을 생성 -> 서로 다른 배율과 해상도의 영역을 결합하여 전체 이미지를 덮는 후보 개체 위치 집합을 만들어 수행\n",
    "    * 머신 러닝 알고리즘 또는 기타 기준을 사용하여 개체를 포함할 가능성에 따라 점수를 매김"
   ]
  },
  {
   "cell_type": "markdown",
   "id": "6794f9f9",
   "metadata": {},
   "source": [
    "# 3. Two-stage 모델\n",
    "* 탐색 영역을 찾는 Region Proposal과 해당 영역을 분류하는 Detection 두가지 과정이 순차적으로 수행되는 방법론\n",
    "* 위치를 찾는 문제(Localization)\n",
    "    * 하나의 이미지 안에서 물체가 있을법한 위치를 찾아 나열하는 과정에 대한 정보를 제안\n",
    "* 분류 문제(Classification)\n",
    "    * 각각의 위치에 대해 class를 분류\n",
    "    * 이미지 내의 사물에 존재하는 bounding box를 예측하는 regression 사용\n",
    "* https://wsshin.tistory.com/9"
   ]
  },
  {
   "cell_type": "markdown",
   "id": "9acc5b4c",
   "metadata": {},
   "source": [
    "### 3-1. R-CNN\n",
    "* Selective Search를 이용해 2,000개의 RoI를 추출\n",
    "* 각 RoI에 대하여 동일한 크기의 입력 이미지로 변경\n",
    "* 이미지를 CNN에 넣어서 벡터 이미지를 추출\n",
    "* 해당 feature를 SVM에 넣어 class 분류 결과를 얻음\n",
    "* 입력 이미지에 대해 CPU 기반의 Selective Search를 진행하므로 많은 시간이 소요"
   ]
  },
  {
   "cell_type": "markdown",
   "id": "a4c5d693",
   "metadata": {},
   "source": [
    "### 3-2. Fast R-CNN\n",
    "* 동일한 Region proposal을 이용하지만 이미지를 한 번만 CNN에 넣어 Feature Map을 생성\n",
    "* Region proposal: 물체가 있을 법한 위치를 찾기\n",
    "* 입력 이미지에 대해 CPU 기반의 Selective Search를 진행하므로 많은 시간이 소요"
   ]
  },
  {
   "cell_type": "markdown",
   "id": "a7ee1a09",
   "metadata": {},
   "source": [
    "### 3-3. Faster R-CNN\n",
    "* 병목에 해당하는 Region proposal 작업을 GPU에서 수행함\n",
    "* RPN 적용\n",
    "* RPN(Region Proposal Networks)\n",
    "    * 슬라이딩 윈도우를 거쳐 각 위치에 대해 Regression과 Classification을 수행\n",
    "    * 전체 class에 대한 결과가 아닌 물체가 있는지 없는지에 대한 여부만 output으로 알려줌\n",
    "    * Regression layer는 bounding box의 위치를 잘 예측할 수 있도록 도와줌"
   ]
  }
 ],
 "metadata": {
  "kernelspec": {
   "display_name": "Lee",
   "language": "python",
   "name": "lee"
  },
  "language_info": {
   "codemirror_mode": {
    "name": "ipython",
    "version": 3
   },
   "file_extension": ".py",
   "mimetype": "text/x-python",
   "name": "python",
   "nbconvert_exporter": "python",
   "pygments_lexer": "ipython3",
   "version": "3.8.6"
  }
 },
 "nbformat": 4,
 "nbformat_minor": 5
}
